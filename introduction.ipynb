{
 "cells": [
  {
   "cell_type": "code",
   "execution_count": null,
   "metadata": {},
   "outputs": [],
   "source": [
    "import numpy as np\n",
    "import matplotlib.pyplot as plt\n",
    "from scipy.optimize import minimize\n",
    "from scipy.stats import norm, expon, poisson\n",
    "import plothist # this makes our plots pretty\n",
    "\n",
    "# fix seed\n",
    "np.random.seed(0)"
   ]
  },
  {
   "cell_type": "markdown",
   "metadata": {},
   "source": [
    "Lets generate some data to illustrate the $\\chi^2$ and Maximul Likelihood methods for parameter estimation!"
   ]
  },
  {
   "cell_type": "code",
   "execution_count": null,
   "metadata": {},
   "outputs": [],
   "source": [
    "mu = 1\n",
    "sigma=0.5\n",
    "N = 1000\n",
    "\n",
    "gauss_data = np.random.normal(mu, sigma, N)"
   ]
  },
  {
   "cell_type": "code",
   "execution_count": null,
   "metadata": {},
   "outputs": [],
   "source": [
    "# plot the data\n",
    "nbins = 30\n",
    "fig, ax = plt.subplots(figsize=(8, 6))\n",
    "\n",
    "entries, bins, = np.histogram(gauss_data, bins=nbins)\n",
    "bin_centers = (bins[:-1] + bins[1:])/2\n",
    "ax.errorbar(bin_centers, entries, yerr=np.sqrt(entries), fmt='o', label='Data', color='k')\n",
    "x = np.linspace(min(gauss_data), max(gauss_data), 1000)\n",
    "ax.plot(x, norm.pdf(x, mu, sigma)*N*(max(gauss_data)-min(gauss_data))/nbins, 'r-', lw=2, label='True PDF')\n",
    "\n",
    "ax.set_xlabel('Measured Quantity')\n",
    "ax.set_ylabel('Entries / bin')\n",
    "\n",
    "ax.legend()\n",
    "\n",
    "plt.show()"
   ]
  },
  {
   "cell_type": "markdown",
   "metadata": {},
   "source": [
    "Review: Chi2 Fit. 3 ways to define the chi2 function, depending on the error estimation."
   ]
  },
  {
   "cell_type": "code",
   "execution_count": null,
   "metadata": {},
   "outputs": [],
   "source": [
    "def chi2_loss(x, y, model, params):\n",
    "\n",
    "    # calculate the model prediction\n",
    "    ypred = model(x, *params)\n",
    "\n",
    "    # calculate the chi2 loss\n",
    "    chi2 = np.sum((y-ypred)**2/ypred)\n",
    "\n",
    "    return chi2\n",
    "\n",
    "def chi2(params):\n",
    "    return chi2_loss(bin_centers, entries, norm.pdf, params)"
   ]
  },
  {
   "cell_type": "code",
   "execution_count": null,
   "metadata": {},
   "outputs": [],
   "source": [
    "fit_result = minimize(chi2, [1, 1], method=\"SLSQP\")"
   ]
  },
  {
   "cell_type": "code",
   "execution_count": null,
   "metadata": {},
   "outputs": [],
   "source": [
    "fit_result"
   ]
  },
  {
   "cell_type": "code",
   "execution_count": null,
   "metadata": {},
   "outputs": [],
   "source": [
    "# plot the data and fit\n",
    "fig, ax = plt.subplots(figsize=(8, 6))\n",
    "\n",
    "entries, bins, = np.histogram(gauss_data, bins=nbins)\n",
    "bin_centers = (bins[:-1] + bins[1:])/2\n",
    "ax.errorbar(bin_centers, entries, yerr=np.sqrt(entries), fmt='o', label='Data', color='k')\n",
    "x = np.linspace(min(gauss_data), max(gauss_data), 1000)\n",
    "ax.plot(x, norm.pdf(x, mu, sigma)*N*(max(gauss_data)-min(gauss_data))/nbins, 'r-', lw=2, label='True PDF')\n",
    "\n",
    "ax.plot(x, norm.pdf(x, *fit_result.x)*N*(max(gauss_data)-min(gauss_data))/nbins, 'b--', lw=2, label='Fit')\n",
    "\n",
    "ax.set_xlabel('Measured Quantity')\n",
    "ax.set_ylabel('Entries / bin')\n",
    "\n",
    "ax.legend()\n",
    "\n",
    "plt.show()"
   ]
  },
  {
   "cell_type": "markdown",
   "metadata": {},
   "source": [
    "Review(?): Maximum Likelihood Estimation "
   ]
  },
  {
   "cell_type": "code",
   "execution_count": null,
   "metadata": {},
   "outputs": [],
   "source": [
    "def neg_log_likelihood(params, x, y, model):\n",
    "\n",
    "\n",
    "    nll = -2*np.sum(np.log(model(gauss_data, *params)))\n",
    "\n",
    "    return nll\n",
    "\n",
    "def nll(params):\n",
    "    return neg_log_likelihood(params, bin_centers, entries, norm.pdf)"
   ]
  },
  {
   "cell_type": "code",
   "execution_count": null,
   "metadata": {},
   "outputs": [],
   "source": [
    "fit_result_MLE = minimize(nll, [0, 1], method=\"SLSQP\")\n",
    "fit_result_MLE"
   ]
  },
  {
   "cell_type": "code",
   "execution_count": null,
   "metadata": {},
   "outputs": [],
   "source": [
    "# plot the data and fit\n",
    "\n",
    "fig, ax = plt.subplots(figsize=(8, 6))\n",
    "\n",
    "entries, bins, = np.histogram(gauss_data, bins=nbins)\n",
    "bin_centers = (bins[:-1] + bins[1:])/2\n",
    "ax.errorbar(bin_centers, entries, yerr=np.sqrt(entries), fmt='o', label='Data', color='k')\n",
    "x = np.linspace(min(gauss_data), max(gauss_data), 1000)\n",
    "ax.plot(x, norm.pdf(x, mu, sigma)*N*(max(gauss_data)-min(gauss_data))/nbins, 'r-', lw=3, label='True PDF')\n",
    "\n",
    "ax.plot(x, norm.pdf(x, *fit_result.x)*N*(max(gauss_data)-min(gauss_data))/nbins, 'b--', lw=3, label='Chi2 Fit')\n",
    "ax.plot(x, norm.pdf(x, *fit_result_MLE.x)*N*(max(gauss_data)-min(gauss_data))/nbins, 'g:', lw=3, label='MLE Fit')\n",
    "\n",
    "\n",
    "ax.set_xlabel('Measured Quantity')\n",
    "ax.set_ylabel('Entries / bin')\n",
    "\n",
    "ax.legend()\n",
    "\n",
    "plt.show()"
   ]
  }
 ],
 "metadata": {
  "kernelspec": {
   "display_name": "icps",
   "language": "python",
   "name": "python3"
  },
  "language_info": {
   "codemirror_mode": {
    "name": "ipython",
    "version": 3
   },
   "file_extension": ".py",
   "mimetype": "text/x-python",
   "name": "python",
   "nbconvert_exporter": "python",
   "pygments_lexer": "ipython3",
   "version": "3.10.14"
  }
 },
 "nbformat": 4,
 "nbformat_minor": 2
}
